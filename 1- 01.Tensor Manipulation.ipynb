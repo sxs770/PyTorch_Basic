{
 "cells": [
  {
   "cell_type": "markdown",
   "id": "0c361bd2-5fa2-465d-bad2-bcbe07c3d0d3",
   "metadata": {},
   "source": [
    "## PyTorch Tensor Allocation(파이토치 텐서 선언하기)"
   ]
  },
  {
   "cell_type": "code",
   "execution_count": 1,
   "id": "e6a1c11d-2571-467f-8c42-41f382ffea76",
   "metadata": {},
   "outputs": [],
   "source": [
    "import torch\n",
    "import numpy as np"
   ]
  },
  {
   "cell_type": "markdown",
   "id": "f587a693-9a50-4ab5-8a4b-5e3b902a7f2c",
   "metadata": {},
   "source": [
    "### 1D with PyTorch"
   ]
  },
  {
   "cell_type": "code",
   "execution_count": 2,
   "id": "6c93d87a-d2ae-496a-ae93-cb3235c42ce5",
   "metadata": {},
   "outputs": [],
   "source": [
    "Vector = torch.FloatTensor([0., 1., 2., 3., 4., 5., 6.])"
   ]
  },
  {
   "cell_type": "code",
   "execution_count": 3,
   "id": "1d752e49-e483-4080-af67-fa33f56b3a86",
   "metadata": {},
   "outputs": [
    {
     "name": "stdout",
     "output_type": "stream",
     "text": [
      "1\n",
      "torch.Size([7])\n"
     ]
    }
   ],
   "source": [
    "print(Vector.dim())\n",
    "print(Vector.size())"
   ]
  },
  {
   "cell_type": "markdown",
   "id": "763d5f2b-81f1-44c9-83fa-82eb987ca8d6",
   "metadata": {},
   "source": [
    "### 2D with PyTorch"
   ]
  },
  {
   "cell_type": "code",
   "execution_count": 4,
   "id": "c78adca0-2c65-48a5-9c21-3e70e3c631f0",
   "metadata": {},
   "outputs": [],
   "source": [
    "Matrix = torch.FloatTensor([[1., 2., 3.], [4., 5., 6], [7., 8., 9.]])"
   ]
  },
  {
   "cell_type": "code",
   "execution_count": 5,
   "id": "16c1eaa3-3129-4b1a-b77d-4f9f92e54e58",
   "metadata": {},
   "outputs": [
    {
     "name": "stdout",
     "output_type": "stream",
     "text": [
      "2\n",
      "torch.Size([3, 3])\n"
     ]
    }
   ],
   "source": [
    "print(Matrix.dim())\n",
    "print(Matrix.size())"
   ]
  },
  {
   "cell_type": "code",
   "execution_count": 6,
   "id": "24f38bb9-7f30-44a9-863e-6c30ec884a61",
   "metadata": {},
   "outputs": [],
   "source": [
    "Matrix = torch.FloatTensor([[1., 2., 3.], \n",
    "                            [4., 5., 6.],\n",
    "                            [7., 8., 9.],\n",
    "                            [10., 11., 12]])"
   ]
  },
  {
   "cell_type": "code",
   "execution_count": 7,
   "id": "cba41b2f-35cd-4398-a0fe-93e90a1c79df",
   "metadata": {},
   "outputs": [
    {
     "name": "stdout",
     "output_type": "stream",
     "text": [
      "2\n",
      "torch.Size([4, 3])\n"
     ]
    }
   ],
   "source": [
    "print(Matrix.dim())\n",
    "print(Matrix.size())"
   ]
  },
  {
   "cell_type": "markdown",
   "id": "9c5b2c74-10d2-444a-b0a6-b3162c217811",
   "metadata": {},
   "source": [
    "### Broadcasting"
   ]
  },
  {
   "cell_type": "code",
   "execution_count": 8,
   "id": "4e7585ef-93a8-4621-857a-f21829530f45",
   "metadata": {},
   "outputs": [
    {
     "name": "stdout",
     "output_type": "stream",
     "text": [
      "tensor([[5., 5.]])\n"
     ]
    }
   ],
   "source": [
    "# 같은 크기의 연산\n",
    "m1 = torch.FloatTensor([[3, 3]])\n",
    "m2 = torch.FloatTensor([[2, 2]])\n",
    "print(m1 + m2)"
   ]
  },
  {
   "cell_type": "code",
   "execution_count": 9,
   "id": "cbcccce7-c9d7-4111-a8a9-148b28ee9dc9",
   "metadata": {},
   "outputs": [
    {
     "name": "stdout",
     "output_type": "stream",
     "text": [
      "tensor([[4., 5.]])\n"
     ]
    }
   ],
   "source": [
    "#크키가 다른 Tensor들 간의 연산 #1\n",
    "m1 = torch.FloatTensor([[1, 2]])\n",
    "m2 = torch.FloatTensor([3])\n",
    "print(m1 + m2)\n",
    "# m2의 크기를 (1, 2)로 변경하여 연산을 수행했다."
   ]
  },
  {
   "cell_type": "code",
   "execution_count": 10,
   "id": "666a6753-5ecd-4c9d-9f9b-dbab0c1cdf25",
   "metadata": {},
   "outputs": [
    {
     "name": "stdout",
     "output_type": "stream",
     "text": [
      "tensor([[4., 5.],\n",
      "        [5., 6.]])\n"
     ]
    }
   ],
   "source": [
    "#크키가 다른 Tensor들 간의 연산 #2\n",
    "m1 = torch.FloatTensor([[1, 2]])\n",
    "m2 = torch.FloatTensor([[3], [4]])\n",
    "print(m1 + m2)\n",
    "# m1과 m2를 2 by 2 matrix로 broadcasting하여 계산을 진행했다."
   ]
  },
  {
   "cell_type": "markdown",
   "id": "e0cda977-b4d7-4bd0-9b00-326c3a059a89",
   "metadata": {},
   "source": [
    "## 자주 사용되는 기능들"
   ]
  },
  {
   "cell_type": "markdown",
   "id": "2413c4b4-1a73-4fd9-bbbc-4f7da0762282",
   "metadata": {},
   "source": [
    "### 행렬 곱셈(내적)과 곱셈의 차이(Matrix Multiplication(dot product) Vs. Multiplication)"
   ]
  },
  {
   "cell_type": "code",
   "execution_count": 11,
   "id": "fa210bcf-b5b4-47fe-b6e8-3bb0d53ad4a8",
   "metadata": {},
   "outputs": [
    {
     "name": "stdout",
     "output_type": "stream",
     "text": [
      "tensor([[ 5.],\n",
      "        [11.]])\n",
      "tensor([[1., 2.],\n",
      "        [6., 8.]])\n"
     ]
    }
   ],
   "source": [
    "# 행렬 곱셈\n",
    "m1 = torch.FloatTensor([[1, 2], [3, 4]])\n",
    "m2 = torch.FloatTensor([[1], [2]])\n",
    "print(m1.matmul(m2))\n",
    "print(m1.mul(m2)) # Broadcasting된 이후 연산이 진행된다."
   ]
  },
  {
   "cell_type": "markdown",
   "id": "a5b9975c-945d-495f-a2c1-8cb8336dcd16",
   "metadata": {},
   "source": [
    "### 평균(Mean)"
   ]
  },
  {
   "cell_type": "code",
   "execution_count": 12,
   "id": "f3c2eb9a-88db-4334-843b-7a9a6073a063",
   "metadata": {},
   "outputs": [
    {
     "name": "stdout",
     "output_type": "stream",
     "text": [
      "tensor(1.5000)\n"
     ]
    }
   ],
   "source": [
    "t = torch.FloatTensor([1, 2])\n",
    "print(t.mean())"
   ]
  },
  {
   "cell_type": "code",
   "execution_count": 13,
   "id": "cc2a4069-5b0e-41f3-a240-8de547778502",
   "metadata": {},
   "outputs": [
    {
     "name": "stdout",
     "output_type": "stream",
     "text": [
      "tensor(2.5000)\n",
      "tensor([2., 3.])\n",
      "tensor([1.5000, 3.5000])\n",
      "tensor([1.5000, 3.5000])\n"
     ]
    }
   ],
   "source": [
    "t = torch.FloatTensor([[1, 2], [3, 4]])\n",
    "print(t.mean())\n",
    "print(t.mean(dim = 0)) # 열의 차원을 보존하면서 평균을 구한 값\n",
    "print(t.mean(dim = 1)) # 행의 차원을 보존하면서 평균을 구한 값\n",
    "print(t.mean(dim = -1))"
   ]
  },
  {
   "cell_type": "markdown",
   "id": "e76a5b87-7fdf-4608-bea1-0a498ab4c5d3",
   "metadata": {},
   "source": [
    "### 덧셈(Sum)"
   ]
  },
  {
   "cell_type": "code",
   "execution_count": 14,
   "id": "c6bd193c-be3f-434f-814b-741d1e8b6b4d",
   "metadata": {},
   "outputs": [
    {
     "name": "stdout",
     "output_type": "stream",
     "text": [
      "tensor(2.5000)\n",
      "tensor([4., 6.])\n",
      "tensor([3., 7.])\n",
      "tensor([3., 7.])\n"
     ]
    }
   ],
   "source": [
    "t = torch.FloatTensor([[1, 2], [3, 4]])\n",
    "print(t.mean())\n",
    "print(t.sum(dim = 0)) # 열의 차원을 보존하면서 덧셈 연산\n",
    "print(t.sum(dim = 1)) # 행의 차원을 보존하면서 덧셈 연산\n",
    "print(t.sum(dim = -1))"
   ]
  },
  {
   "cell_type": "markdown",
   "id": "e923af5d-a83e-467e-bdab-f161a9b5831f",
   "metadata": {},
   "source": [
    "### 최대(Max)와 아그맥스(ArgMax)"
   ]
  },
  {
   "cell_type": "code",
   "execution_count": 15,
   "id": "695a2ea3-4add-49d6-9425-d0ffd361a497",
   "metadata": {},
   "outputs": [
    {
     "name": "stdout",
     "output_type": "stream",
     "text": [
      "tensor(6.)\n",
      "tensor(5)\n",
      "torch.return_types.max(\n",
      "values=tensor([4., 5., 6.]),\n",
      "indices=tensor([1, 1, 1]))\n"
     ]
    }
   ],
   "source": [
    "t = torch.FloatTensor([[1, 2, 3], [4, 5, 6]])\n",
    "print(t.max())\n",
    "print(t.argmax())\n",
    "print(t.max(dim = 0))"
   ]
  },
  {
   "cell_type": "markdown",
   "id": "a65ad4bd-64bb-4d5e-b950-f807654cd30c",
   "metadata": {},
   "source": [
    "### 뷰(View)"
   ]
  },
  {
   "cell_type": "code",
   "execution_count": 16,
   "id": "2902ea62-3a99-45be-b717-16b5ed337f4f",
   "metadata": {},
   "outputs": [
    {
     "name": "stdout",
     "output_type": "stream",
     "text": [
      "tensor([[[ 0.,  1.,  2.],\n",
      "         [ 3.,  4.,  5.]],\n",
      "\n",
      "        [[ 6.,  7.,  8.],\n",
      "         [ 9., 10., 11.]]])\n",
      "torch.Size([2, 2, 3])\n"
     ]
    }
   ],
   "source": [
    "t = np.array([[[0, 1, 2], [3, 4, 5]], [[6, 7, 8], [9, 10, 11]]])\n",
    "ft = torch.FloatTensor(t)\n",
    "print(ft)\n",
    "print(ft.shape)"
   ]
  },
  {
   "cell_type": "code",
   "execution_count": 17,
   "id": "ae03b68f-df0b-49ad-9a63-9d28026139d8",
   "metadata": {},
   "outputs": [],
   "source": [
    "# 3차원 Tensor에서 2차원 Tensor로 변경"
   ]
  },
  {
   "cell_type": "code",
   "execution_count": 18,
   "id": "54f296e8-91dc-4000-94e6-7faf4586df7f",
   "metadata": {},
   "outputs": [
    {
     "name": "stdout",
     "output_type": "stream",
     "text": [
      "tensor([[ 0.,  1.,  2.],\n",
      "        [ 3.,  4.,  5.],\n",
      "        [ 6.,  7.,  8.],\n",
      "        [ 9., 10., 11.]])\n",
      "torch.Size([4, 3])\n"
     ]
    }
   ],
   "source": [
    "print(ft.view([-1, 3]))\n",
    "print(ft.view([-1, 3]).shape)"
   ]
  },
  {
   "cell_type": "code",
   "execution_count": 19,
   "id": "c9ceeb9e-fefc-4dff-9529-a5e18a7707e6",
   "metadata": {},
   "outputs": [
    {
     "name": "stdout",
     "output_type": "stream",
     "text": [
      "tensor([[[ 0.,  1.,  2.]],\n",
      "\n",
      "        [[ 3.,  4.,  5.]],\n",
      "\n",
      "        [[ 6.,  7.,  8.]],\n",
      "\n",
      "        [[ 9., 10., 11.]]])\n",
      "torch.Size([4, 1, 3])\n"
     ]
    }
   ],
   "source": [
    "print(ft.view([-1, 1, 3]))\n",
    "print(ft.view([-1, 1, 3]).shape)"
   ]
  },
  {
   "cell_type": "markdown",
   "id": "08ad55ba-c485-4db8-aaa6-62dfc41b9caf",
   "metadata": {},
   "source": [
    "### 스퀴즈(Squeeze) - 1인 차원을 제거"
   ]
  },
  {
   "cell_type": "code",
   "execution_count": 20,
   "id": "7953b38b-9e30-49ad-871f-7e71d0c7f590",
   "metadata": {},
   "outputs": [
    {
     "name": "stdout",
     "output_type": "stream",
     "text": [
      "tensor([[0.],\n",
      "        [1.],\n",
      "        [2.]])\n",
      "torch.Size([3, 1])\n",
      " \n",
      "tensor([0., 1., 2.])\n",
      "torch.Size([3])\n"
     ]
    }
   ],
   "source": [
    "ft = torch.FloatTensor([[0], [1], [2]])\n",
    "print(ft)\n",
    "print(ft.shape)\n",
    "print(\" \")\n",
    "print(ft.squeeze())\n",
    "print(ft.squeeze().shape)"
   ]
  },
  {
   "cell_type": "markdown",
   "id": "bedb406c-a49c-49b1-ab00-eea6777f8799",
   "metadata": {},
   "source": [
    "### 언스퀴즈(Unsqueeze)"
   ]
  },
  {
   "cell_type": "code",
   "execution_count": 21,
   "id": "cb82c5ef-fdf5-4a54-9fb9-ed9194acb01c",
   "metadata": {},
   "outputs": [
    {
     "name": "stdout",
     "output_type": "stream",
     "text": [
      "tensor([[0., 1., 2.]])\n",
      "torch.Size([1, 3])\n"
     ]
    }
   ],
   "source": [
    "ft = torch.Tensor([0, 1, 2])\n",
    "print(ft.unsqueeze(0))\n",
    "print(ft.unsqueeze(0).shape)\n",
    "#(3,)의 크기를 가졌던 1차원 Vector가 (1, 3)의 Matrix가 된것을 알 수 있다.(앞에서 사용한 View를 이용해서도 구현 가능하다.)"
   ]
  },
  {
   "cell_type": "markdown",
   "id": "d1cadb99-91f5-4395-8eb4-520e10f3d67d",
   "metadata": {},
   "source": [
    "### 타입 캐스팅(Type Casting)"
   ]
  },
  {
   "cell_type": "code",
   "execution_count": 22,
   "id": "f2af60b0-db09-452c-a5e1-3859a234ec1c",
   "metadata": {},
   "outputs": [
    {
     "name": "stdout",
     "output_type": "stream",
     "text": [
      "tensor([1., 2., 3., 4.])\n",
      "torch.FloatTensor\n",
      "tensor([1, 2, 3, 4], dtype=torch.uint8)\n",
      "torch.ByteTensor\n",
      "==================================================\n",
      "tensor([1., 2., 3., 4.])\n",
      "torch.FloatTensor\n",
      "tensor([1, 2, 3, 4])\n",
      "torch.LongTensor\n"
     ]
    }
   ],
   "source": [
    "lt = torch.LongTensor([1, 2, 3, 4])\n",
    "print(lt.float())\n",
    "print(lt.float().type())\n",
    "print(lt.byte())\n",
    "print(lt.byte().type())\n",
    "print(\"=\"*50)\n",
    "lt = torch.ByteTensor([1, 2, 3, 4])\n",
    "print(lt.float())\n",
    "print(lt.float().type())\n",
    "print(lt.long())\n",
    "print(lt.long().type())"
   ]
  },
  {
   "cell_type": "markdown",
   "id": "d6381ccd-6a36-46f0-ad88-372a06fb274b",
   "metadata": {},
   "source": [
    "### 연결하기(Concatenate)"
   ]
  },
  {
   "cell_type": "code",
   "execution_count": 23,
   "id": "4f12a070-6040-4f73-ad51-2cfbf01745bd",
   "metadata": {},
   "outputs": [],
   "source": [
    "x = torch.FloatTensor([[1, 2], [3, 4]])\n",
    "y = torch.FloatTensor([[5, 6], [7, 8]])"
   ]
  },
  {
   "cell_type": "code",
   "execution_count": 24,
   "id": "22c43c74-f88c-46c9-849c-b8ba4c86fcb6",
   "metadata": {},
   "outputs": [
    {
     "name": "stdout",
     "output_type": "stream",
     "text": [
      "tensor([[1., 2.],\n",
      "        [3., 4.],\n",
      "        [5., 6.],\n",
      "        [7., 8.]])\n",
      " \n",
      "tensor([[1., 2., 5., 6.],\n",
      "        [3., 4., 7., 8.]])\n"
     ]
    }
   ],
   "source": [
    "print(torch.cat([x, y], dim=0))\n",
    "print(\" \")\n",
    "print(torch.cat([x, y], dim=1))"
   ]
  },
  {
   "cell_type": "markdown",
   "id": "be0af761-69ec-4aca-88f1-ff9017e29e1b",
   "metadata": {},
   "source": [
    "### 스택킹(Stacking)"
   ]
  },
  {
   "cell_type": "code",
   "execution_count": 25,
   "id": "27d6fa70-4039-4d4d-9083-f8ef8a9b48be",
   "metadata": {},
   "outputs": [
    {
     "name": "stdout",
     "output_type": "stream",
     "text": [
      "tensor([[1., 4.],\n",
      "        [2., 5.],\n",
      "        [3., 6.]])\n"
     ]
    }
   ],
   "source": [
    "x = torch.FloatTensor([1, 4])\n",
    "y = torch.FloatTensor([2, 5])\n",
    "z = torch.FloatTensor([3, 6])\n",
    "\n",
    "print(torch.stack([x, y, z]))"
   ]
  },
  {
   "cell_type": "code",
   "execution_count": 26,
   "id": "1bc83b78-b85d-4f77-b21e-60b78f036750",
   "metadata": {},
   "outputs": [
    {
     "name": "stdout",
     "output_type": "stream",
     "text": [
      "tensor([[1., 2., 3.],\n",
      "        [4., 5., 6.]])\n"
     ]
    }
   ],
   "source": [
    "print(torch.stack([x, y, z], dim=1))"
   ]
  },
  {
   "cell_type": "markdown",
   "id": "9b2632e8-ddcd-4458-ae68-315437a2c82e",
   "metadata": {},
   "source": [
    "### ones_like 와 zeros_like"
   ]
  },
  {
   "cell_type": "code",
   "execution_count": 27,
   "id": "54bcfa78-1651-4b2b-9f47-d26388663c40",
   "metadata": {},
   "outputs": [],
   "source": [
    "x = torch.FloatTensor([[0, 1, 2], [2, 1, 0]])"
   ]
  },
  {
   "cell_type": "code",
   "execution_count": 28,
   "id": "0e0a98c5-d5bb-4b7b-9c4b-cbb4dc5911fa",
   "metadata": {},
   "outputs": [
    {
     "name": "stdout",
     "output_type": "stream",
     "text": [
      "tensor([[1., 1., 1.],\n",
      "        [1., 1., 1.]])\n",
      " \n",
      "tensor([[0., 0., 0.],\n",
      "        [0., 0., 0.]])\n"
     ]
    }
   ],
   "source": [
    "print(torch.ones_like(x))\n",
    "print(\" \")\n",
    "print(torch.zeros_like(x))"
   ]
  },
  {
   "cell_type": "markdown",
   "id": "dd045f35-4746-480e-a4a4-15e6f4c8c721",
   "metadata": {},
   "source": [
    "### In - Place Operation(덮어쓰기 연산)"
   ]
  },
  {
   "cell_type": "code",
   "execution_count": 29,
   "id": "fa166b78-8f08-416b-bd2d-6a27ec5d7536",
   "metadata": {},
   "outputs": [],
   "source": [
    "x = torch.FloatTensor([[1, 2], [3, 4]])"
   ]
  },
  {
   "cell_type": "code",
   "execution_count": 30,
   "id": "c69423dc-8d7f-4424-b02a-10450d939149",
   "metadata": {},
   "outputs": [
    {
     "name": "stdout",
     "output_type": "stream",
     "text": [
      "tensor([[2., 4.],\n",
      "        [6., 8.]])\n",
      "tensor([[1., 2.],\n",
      "        [3., 4.]])\n",
      " \n",
      "tensor([[2., 4.],\n",
      "        [6., 8.]])\n",
      "tensor([[2., 4.],\n",
      "        [6., 8.]])\n"
     ]
    }
   ],
   "source": [
    "print(x.mul(2.))\n",
    "print(x)\n",
    "print(\" \")\n",
    "print(x.mul_(2.))\n",
    "print(x)"
   ]
  }
 ],
 "metadata": {
  "kernelspec": {
   "display_name": "Python 3",
   "language": "python",
   "name": "python3"
  },
  "language_info": {
   "codemirror_mode": {
    "name": "ipython",
    "version": 3
   },
   "file_extension": ".py",
   "mimetype": "text/x-python",
   "name": "python",
   "nbconvert_exporter": "python",
   "pygments_lexer": "ipython3",
   "version": "3.8.8"
  }
 },
 "nbformat": 4,
 "nbformat_minor": 5
}
